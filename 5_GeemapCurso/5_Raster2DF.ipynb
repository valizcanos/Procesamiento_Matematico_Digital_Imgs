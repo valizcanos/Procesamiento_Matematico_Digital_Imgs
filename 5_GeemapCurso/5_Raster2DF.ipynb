{
 "cells": [
  {
   "cell_type": "code",
   "execution_count": null,
   "id": "7c9d6b07",
   "metadata": {},
   "outputs": [],
   "source": [
    "import os\n",
    "import pandas as pd\n",
    "import geopandas as gpd\n",
    "import numpy as np\n",
    "import rasterio as rio\n",
    "import rioxarray\n",
    "import xarray as xr\n",
    "import matplotlib.pyplot as plt\n",
    "from itertools import chain"
   ]
  },
  {
   "cell_type": "code",
   "execution_count": null,
   "id": "8979d3f4",
   "metadata": {},
   "outputs": [],
   "source": [
    "archivo = \"VHI_LS_mean.tif\""
   ]
  },
  {
   "cell_type": "code",
   "execution_count": null,
   "id": "52abb3b1",
   "metadata": {},
   "outputs": [],
   "source": [
    "VHI_promedio = xr.open_rasterio(archivo)"
   ]
  },
  {
   "cell_type": "code",
   "execution_count": null,
   "id": "b9ff1aa8",
   "metadata": {},
   "outputs": [],
   "source": [
    "VHI_promedio"
   ]
  },
  {
   "cell_type": "code",
   "execution_count": null,
   "id": "bbadd487",
   "metadata": {},
   "outputs": [],
   "source": [
    "VHI_promedio.plot.hist(bins=15,color=\"purple\", edgecolor=\"white\", alpha=0.6)\n",
    "plt.xlabel(\"VHI\")\n",
    "plt.ylabel(\"Frecuencia absoluta\")\n",
    "plt.title(\"VHI promedio desde el año 85 al 2020\")\n",
    "plt.show()"
   ]
  },
  {
   "cell_type": "code",
   "execution_count": null,
   "id": "20f704fb",
   "metadata": {},
   "outputs": [],
   "source": [
    "VHI_promedio_arr = VHI_promedio.isel()"
   ]
  },
  {
   "cell_type": "code",
   "execution_count": null,
   "id": "e61ebb3f",
   "metadata": {},
   "outputs": [],
   "source": [
    "VHI_promedio_arr.plot(cmap=plt.cm.Blues, levels=25,cbar_kwargs={\"label\": \"VHI\"})\n",
    "plt.ylabel(\"Latitud\")\n",
    "plt.xlabel(\"Longitud\")\n",
    "plt.title(\"VHI promedio desde el año 85 al 2020\")\n",
    "plt.show()"
   ]
  },
  {
   "cell_type": "code",
   "execution_count": null,
   "id": "0b70570d",
   "metadata": {},
   "outputs": [],
   "source": [
    "VHI_promedio_df= VHI_promedio.to_dataframe(name='values')"
   ]
  },
  {
   "cell_type": "code",
   "execution_count": null,
   "id": "970a7eed",
   "metadata": {},
   "outputs": [],
   "source": [
    "VHI_promedio_df"
   ]
  },
  {
   "cell_type": "code",
   "execution_count": null,
   "id": "1810d107",
   "metadata": {},
   "outputs": [],
   "source": [
    "VHI_promedio_df.describe()"
   ]
  },
  {
   "cell_type": "code",
   "execution_count": null,
   "id": "73207b8a",
   "metadata": {},
   "outputs": [],
   "source": [
    "VHI_promedio_df= VHI_promedio_df.reset_index()"
   ]
  },
  {
   "cell_type": "code",
   "execution_count": null,
   "id": "ef9270c2",
   "metadata": {},
   "outputs": [],
   "source": [
    "VHI_promedio_df"
   ]
  },
  {
   "cell_type": "code",
   "execution_count": null,
   "id": "d1915012",
   "metadata": {},
   "outputs": [],
   "source": [
    "VHI_promedio_gdf = gpd.GeoDataFrame(\n",
    "    VHI_promedio_df, geometry=gpd.points_from_xy(VHI_promedio_df.x, VHI_promedio_df.y), crs=\"EPSG:4326\"\n",
    ")"
   ]
  },
  {
   "cell_type": "code",
   "execution_count": null,
   "id": "37132afa",
   "metadata": {},
   "outputs": [],
   "source": [
    "VHI_promedio_gdf"
   ]
  },
  {
   "cell_type": "code",
   "execution_count": null,
   "id": "25ef3a37",
   "metadata": {},
   "outputs": [],
   "source": [
    "#VHI_promedio_gdf.explore(column=\"values\",tiles=\"CartoDB positron\",cmap=\"Set1\")"
   ]
  },
  {
   "cell_type": "code",
   "execution_count": null,
   "id": "af441a22",
   "metadata": {},
   "outputs": [],
   "source": []
  }
 ],
 "metadata": {
  "kernelspec": {
   "display_name": "Python 3 (ipykernel)",
   "language": "python",
   "name": "python3"
  },
  "language_info": {
   "codemirror_mode": {
    "name": "ipython",
    "version": 3
   },
   "file_extension": ".py",
   "mimetype": "text/x-python",
   "name": "python",
   "nbconvert_exporter": "python",
   "pygments_lexer": "ipython3",
   "version": "3.11.3"
  }
 },
 "nbformat": 4,
 "nbformat_minor": 5
}
